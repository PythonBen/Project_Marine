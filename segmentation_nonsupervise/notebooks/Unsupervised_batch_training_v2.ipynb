{
 "cells": [
  {
   "cell_type": "code",
   "execution_count": 2,
   "id": "b04779fa",
   "metadata": {},
   "outputs": [],
   "source": [
    "# notebook for unsupervised segmentation based on the paper: \n",
    "#  Unsupervised Learning of Image Segmentation Based on Differentiable Feature Clustering.\n",
    "# Wonjik Kim*, Asako Kanezaki*, and Masayuki Tanaka\n",
    "\n",
    "from pathlib import Path\n",
    "import cv2\n",
    "import torch\n",
    "import torch.nn as nn\n",
    "import torch.nn.functional as F\n",
    "from torchvision.utils import make_grid\n",
    "from torchvision.io import read_image\n",
    "import numpy as np\n",
    "import matplotlib.pyplot as plt\n",
    "import os\n",
    "import argparse\n",
    "%matplotlib inline\n"
   ]
  },
  {
   "cell_type": "code",
   "execution_count": 18,
   "id": "32984e26",
   "metadata": {},
   "outputs": [
    {
     "name": "stdout",
     "output_type": "stream",
     "text": [
      "/media/ben/Data_linux/code/unsupervised_learning/notebooks\n"
     ]
    }
   ],
   "source": [
    "# paths\n",
    "cwd = Path.cwd()\n",
    "print(cwd)\n",
    "path_data = cwd.parent/\"dataset/ref/\"\n",
    "path_valid = cwd.parent/\"dataset/valid/\"\n",
    "#for f in path_valid.iterdir():\n",
    "#    print(f.name)"
   ]
  },
  {
   "cell_type": "code",
   "execution_count": 25,
   "id": "83446741",
   "metadata": {},
   "outputs": [],
   "source": [
    "# parameters\n",
    "SIZE = (128*1, 128*1)\n",
    "BS = 4\n",
    "nChannel = 40\n",
    "nConv = 2\n",
    "LR = 0.05\n",
    "EPOCHS = 80\n",
    "SANITY_CHECK = False\n",
    "STEPSIZE_CON = 5                      # weight for the continuity loss\n",
    "STEPSIZE_SIM = 1                      # weight for the similarity loss\n",
    "SAVE_MODEL = False\n",
    "WRITE_PICS = True\n",
    "PLOT = False\n",
    "MIN_LABELS = 5\n",
    "TRAIN = True\n",
    "INFERENCE = False"
   ]
  },
  {
   "cell_type": "code",
   "execution_count": 23,
   "id": "f7c72296",
   "metadata": {},
   "outputs": [
    {
     "name": "stdout",
     "output_type": "stream",
     "text": [
      "list_im:40, val_im:20\n"
     ]
    }
   ],
   "source": [
    "list_images = [im.as_posix() for im in path_data.iterdir()]\n",
    "valid_images = [im.as_posix() for im in path_valid.iterdir()]\n",
    "print(f\"list_im:{len(list_images)}, val_im:{len(valid_images)}\")"
   ]
  },
  {
   "cell_type": "code",
   "execution_count": 24,
   "id": "8af0ea10",
   "metadata": {},
   "outputs": [],
   "source": [
    " # device\n",
    "if torch.cuda.is_available():\n",
    "    device = \"cuda:0\"\n",
    "else:\n",
    "    device = \"cpu\""
   ]
  },
  {
   "cell_type": "code",
   "execution_count": 26,
   "id": "0ab8976a",
   "metadata": {},
   "outputs": [
    {
     "name": "stdout",
     "output_type": "stream",
     "text": [
      "len(ds_train):40, len(ds_valid):20\n",
      "len(train_dl):10, len(valid_dl):5\n"
     ]
    }
   ],
   "source": [
    "# DatasetClass\n",
    "class ImageDataset:\n",
    "    def __init__(self, image_paths, size=SIZE):\n",
    "        self.image_paths = image_paths\n",
    "        self.size = size\n",
    "\n",
    "    def __len__(self):\n",
    "        return len(self.image_paths)\n",
    "\n",
    "    def __getitem__(self, item):\n",
    "        image = cv2.imread(self.image_paths[item])\n",
    "        resized_im = cv2.resize(image, dsize=self.size)\n",
    "        resized_im = resized_im.transpose( (2, 0, 1) ).astype('float32')/255.\n",
    "        image_tensor = torch.tensor(resized_im)\n",
    "        return image_tensor\n",
    "\n",
    "def make_dataset_dataloader():\n",
    "    \n",
    "    # datasets and dataloaders\n",
    "    ds_train = ImageDataset(image_paths=list_images)\n",
    "    ds_valid = ImageDataset(image_paths=valid_images)\n",
    "    print(f\"len(ds_train):{len(ds_train)}, len(ds_valid):{len(ds_valid)}\")\n",
    "    # 2. make dataloaders\n",
    "    train_dl = torch.utils.data.DataLoader(dataset=ds_train,batch_size=BS, shuffle=True)\n",
    "    valid_dl = torch.utils.data.DataLoader(dataset=ds_valid, batch_size=BS, shuffle=False)\n",
    "    print(f\"len(train_dl):{len(train_dl)}, len(valid_dl):{len(valid_dl)}\")\n",
    "    \n",
    "    return train_dl, valid_dl, ds_train, ds_valid\n",
    "train_dl, valid_dl, ds_train, ds_valid = make_dataset_dataloader()"
   ]
  },
  {
   "cell_type": "code",
   "execution_count": 27,
   "id": "cca08cdd",
   "metadata": {},
   "outputs": [],
   "source": [
    "# define a cnn  model\n",
    "class MyNet(nn.Module):\n",
    "    def __init__(self,input_dim):\n",
    "        super(MyNet, self).__init__()\n",
    "        self.conv1 = nn.Conv2d(input_dim, nChannel, kernel_size=3, stride=1, padding=1 )\n",
    "        self.bn1 = nn.BatchNorm2d(nChannel)\n",
    "        self.conv2 = nn.ModuleList()\n",
    "        self.bn2 = nn.ModuleList()\n",
    "        for i in range(nConv-1):\n",
    "            self.conv2.append( nn.Conv2d(nChannel, nChannel, kernel_size=3, stride=1, padding=1 ) )\n",
    "            self.bn2.append( nn.BatchNorm2d(nChannel) )\n",
    "        self.conv3 = nn.Conv2d(nChannel, nChannel, kernel_size=1, stride=1, padding=0 )\n",
    "        self.bn3 = nn.BatchNorm2d(nChannel)\n",
    "\n",
    "    def forward(self, x):\n",
    "        x = self.conv1(x)\n",
    "        x = F.relu( x )\n",
    "        x = self.bn1(x)\n",
    "        for i in range(nConv-1):\n",
    "            x = self.conv2[i](x)\n",
    "            x = F.relu( x )\n",
    "            x = self.bn2[i](x)\n",
    "        x = self.conv3(x)\n",
    "        x = self.bn3(x)\n",
    "        return x\n",
    "\n",
    "M1 = MyNet(input_dim=3).to(device)"
   ]
  },
  {
   "cell_type": "code",
   "execution_count": 28,
   "id": "0440414f",
   "metadata": {},
   "outputs": [
    {
     "name": "stdout",
     "output_type": "stream",
     "text": [
      "x.size:torch.Size([4, 3, 128, 128])\n",
      "HPY:torch.Size([4, 127, 128, 40])\n",
      "HPz:torch.Size([4, 128, 127, 40])\n"
     ]
    }
   ],
   "source": [
    "for item in train_dl:\n",
    "    x = item\n",
    "    break\n",
    "print(f\"x.size:{x.size()}\")\n",
    "# 4. loss function, and colors\n",
    "# similarity loss definition\n",
    "loss_fn = torch.nn.CrossEntropyLoss()\n",
    "\n",
    "# continuity loss definition\n",
    "loss_hpy = torch.nn.L1Loss(reduction='mean')\n",
    "loss_hpz = torch.nn.L1Loss(reduction='mean')\n",
    "optimizer = torch.optim.SGD(M1.parameters(), lr=LR, momentum=0.9)\n",
    "label_colours = np.random.randint(255, size=(100, 3))\n",
    "\n",
    "# 5. training loop\n",
    "HPy_target = torch.zeros(x.shape[0], x.shape[2]-1, x.shape[3], nChannel)\n",
    "HPz_target = torch.zeros(x.shape[0], x.shape[2], x.shape[3]-1, nChannel)\n",
    "\n",
    "HPy_target = HPy_target.to(device)\n",
    "HPz_target = HPz_target.to(device)\n",
    "\n",
    "print(f\"HPY:{HPy_target.shape}\")\n",
    "print(f\"HPz:{HPz_target.shape}\")"
   ]
  },
  {
   "cell_type": "code",
   "execution_count": 29,
   "id": "64f34b65",
   "metadata": {},
   "outputs": [],
   "source": [
    "stepsize_con = STEPSIZE_CON\n",
    "stepsize_sim = STEPSIZE_SIM\n",
    "def loss_one_epoch(model=M1, dataloader=train_dl, sanity_check=SANITY_CHECK, lr=LR, save_model=SAVE_MODEL):\n",
    "    \"\"\" training one epoch\"\"\"\n",
    "\n",
    "    optimizer = torch.optim.SGD(model.parameters(), lr=lr, momentum=0.9)\n",
    "    running_loss  = 0.0\n",
    "    bool_minlabel = False\n",
    "    for image in dataloader:\n",
    "        image = image.to(device)\n",
    "        optimizer.zero_grad()\n",
    "        output = model(image)\n",
    "        output = output.permute( 0, 2, 3, 1 ).contiguous().view(BS, -1, nChannel)\n",
    "        outputHP = output.reshape((BS, image.shape[2], image.shape[3], nChannel))\n",
    "        HPy = outputHP[:, 1:, :, :] - outputHP[:, 0:-1, :, :]\n",
    "        HPz = outputHP[:, :, 1:, :] - outputHP[:, :, 0:-1, :]\n",
    "\n",
    "        lhpy = loss_hpy(HPy, HPy_target)\n",
    "        lhpz = loss_hpz(HPz, HPz_target)\n",
    "\n",
    "        output = output.reshape(output.shape[0] * output.shape[1], -1 )\n",
    "        ignore, target = torch.max(output, 1 )\n",
    "        nLabels = len(torch.unique(target))\n",
    "        #print(f\"nlabels:{nLabels}\")\n",
    "        loss = stepsize_sim * loss_fn(output, target) + stepsize_con * (lhpy + lhpz)\n",
    "        loss.backward()\n",
    "        optimizer.step()\n",
    "        running_loss += loss.item()\n",
    "        if sanity_check:\n",
    "            break\n",
    "\n",
    "        if nLabels <= MIN_LABELS:\n",
    "            print (\"nLabels\", nLabels, \"reached minLabels\", MIN_LABELS, \".\")\n",
    "            bool_minlabel = True\n",
    "            break\n",
    "\n",
    "    #if save_model:\n",
    "    #    torch.save(model.state_dict(), './models/model.pth')\n",
    "    return running_loss / len(dataloader), bool_minlabel"
   ]
  },
  {
   "cell_type": "code",
   "execution_count": 24,
   "id": "1d40a093",
   "metadata": {},
   "outputs": [
    {
     "data": {
      "text/plain": [
       "PosixPath('/media/ben/Data_linux/code/unsupervised_learning/models')"
      ]
     },
     "execution_count": 24,
     "metadata": {},
     "output_type": "execute_result"
    }
   ],
   "source": [
    "cwd.parent/'models'"
   ]
  },
  {
   "cell_type": "code",
   "execution_count": 30,
   "id": "af95275c",
   "metadata": {},
   "outputs": [
    {
     "name": "stdout",
     "output_type": "stream",
     "text": [
      "epoch:0, loss:3.109053349494934\n",
      "epoch:1, loss:2.138093554973602\n",
      "epoch:2, loss:1.5795988082885741\n",
      "epoch:3, loss:1.3229715466499328\n",
      "epoch:4, loss:1.0731671392917632\n",
      "epoch:5, loss:0.9632143378257751\n",
      "epoch:6, loss:0.8312647581100464\n",
      "epoch:7, loss:0.7951816082000732\n",
      "epoch:8, loss:0.8193623721599579\n",
      "epoch:9, loss:0.7074422597885132\n",
      "epoch:10, loss:0.7063643276691437\n",
      "epoch:11, loss:0.7396718740463257\n",
      "epoch:12, loss:0.6489037156105042\n",
      "epoch:13, loss:0.5637289106845855\n",
      "epoch:14, loss:0.5538885831832886\n",
      "epoch:15, loss:0.5108263045549393\n",
      "epoch:16, loss:0.5551586389541626\n",
      "epoch:17, loss:0.5864290118217468\n",
      "epoch:18, loss:0.5633482694625854\n",
      "epoch:19, loss:0.4890734314918518\n",
      "epoch:20, loss:0.4245392829179764\n",
      "epoch:21, loss:0.445762500166893\n",
      "epoch:22, loss:0.4327726006507874\n",
      "epoch:23, loss:0.45799010097980497\n",
      "epoch:24, loss:0.4075427532196045\n",
      "nLabels 5 reached minLabels 5 .\n",
      "epoch:25, loss:0.47179773151874543\n",
      "minimum labels reached\n"
     ]
    }
   ],
   "source": [
    "def training_loop(epochs=EPOCHS):\n",
    "    \"\"\" function to train the model\"\"\"\n",
    "    loss_history = []\n",
    "    for epoch in range(EPOCHS):\n",
    "        M1.train()\n",
    "        loss_epoch, min_label_reached = loss_one_epoch(model=M1,\n",
    "                                                       dataloader=train_dl,\n",
    "                                                       sanity_check=SANITY_CHECK,\n",
    "                                                       lr=LR)\n",
    "        loss_history.append(loss_epoch)\n",
    "        print(f\"epoch:{epoch}, loss:{loss_epoch}\")\n",
    "        if min_label_reached:\n",
    "            print(\"minimum labels reached\")\n",
    "            break\n",
    "    return M1, loss_history\n",
    "\n",
    "if TRAIN:                                                      # training\n",
    "    M1, loss_history = training_loop(epochs=EPOCHS)\n",
    "else:                                                          # loading a train model\n",
    "    M1 =  MyNet(input_dim=3).to(device)\n",
    "    M1.load_state_dict(torch.load(cwd.parent/\"models/model_batch.pth\"))\n",
    "    M1.eval()\n",
    "if SAVE_MODEL:\n",
    "    torch.save(M1.state_dict(), cwd.parent/f\"models/model_batch_{SIZE[0]}.pth\")"
   ]
  },
  {
   "cell_type": "code",
   "execution_count": 31,
   "id": "e271e8f6",
   "metadata": {},
   "outputs": [],
   "source": [
    "# training loss\n",
    "if PLOT:\n",
    "    list_epochs = range(len(loss_history))\n",
    "    plt.plot(list_epochs, loss_history)\n",
    "    plt.xlabel(\"epochs\")\n",
    "    plt.ylabel(\"loss\")\n",
    "    #plt.legend()\n",
    "    plt.show()"
   ]
  },
  {
   "cell_type": "code",
   "execution_count": 56,
   "id": "4a9e870a",
   "metadata": {},
   "outputs": [],
   "source": [
    "if SAVE_MODEL:\n",
    "    torch.save(M1.state_dict(), cwd.parent/f\"models/model_batch_{SIZE[0]}.pth\")"
   ]
  },
  {
   "cell_type": "code",
   "execution_count": 32,
   "id": "8295fb98",
   "metadata": {},
   "outputs": [],
   "source": [
    "def inference(data_loader=valid_dl):\n",
    "    \"\"\" function for inference\"\"\"\n",
    "    list_im = []\n",
    "    for bn, img in enumerate(data_loader):\n",
    "        M1.eval()\n",
    "        img = img.to(device)\n",
    "        output = M1(img)\n",
    "        output = output.permute(0, 2, 3, 1).view(BS,-1, nChannel)\n",
    "        ignore, target = torch.max( output, 2 )\n",
    "        inds = target.data.cpu().numpy().reshape( (BS, img.shape[2], img.shape[3]) )\n",
    "        inds_rgb = np.array([label_colours[ c % nChannel ] for c in inds])\n",
    "        inds_rgb = inds_rgb.reshape( img.shape ).astype( np.uint8 )\n",
    "\n",
    "        print(f\"batch number:{bn}\")\n",
    "        if WRITE_PICS:\n",
    "            \n",
    "            len_valid = len(valid_dl)\n",
    "            iter_list = list(path_valid.iterdir())\n",
    "            for i in range(BS):\n",
    "                filename = iter_list[bn*BS + i].name\n",
    "                output_im = inds_rgb[i,:,:,:]\n",
    "                output_im2 = np.reshape(output_im, (*SIZE,3))\n",
    "                list_im.append(output_im2)\n",
    "                #cv2.imwrite(file_path_saved + f\"image_bn_{bn}_im{i}.png\", output_im2)\n",
    "                cv2.imwrite(file_path_saved + f\"{filename}\", output_im2)\n",
    "                \n",
    "    return list_im"
   ]
  },
  {
   "cell_type": "code",
   "execution_count": 33,
   "id": "af5466eb",
   "metadata": {},
   "outputs": [
    {
     "name": "stdout",
     "output_type": "stream",
     "text": [
      "/media/ben/Data_linux/code/unsupervised_learning/dataset/new_test2/new_dat_epochs_80_image_step_con_5_step_sim_1_size_128_nconv_2/\n"
     ]
    }
   ],
   "source": [
    "# folder to save the results, inference\n",
    "file_path_saved = f\"/media/ben/Data_linux/code/unsupervised_learning/dataset/new_test2/new_dat_epochs_{EPOCHS}_image_step_con_{STEPSIZE_CON}_step_sim_{STEPSIZE_SIM}_size_{SIZE[0]}_nconv_{nConv}/\"\n",
    "if not os.path.exists(file_path_saved):\n",
    "    os.mkdir(file_path_saved)\n",
    "print(file_path_saved)"
   ]
  },
  {
   "cell_type": "code",
   "execution_count": 34,
   "id": "e6910b7f",
   "metadata": {},
   "outputs": [
    {
     "name": "stdout",
     "output_type": "stream",
     "text": [
      "batch number:0\n",
      "batch number:1\n",
      "batch number:2\n",
      "batch number:3\n",
      "batch number:4\n"
     ]
    }
   ],
   "source": [
    "list_im = inference()"
   ]
  },
  {
   "cell_type": "code",
   "execution_count": 36,
   "id": "9cd3e631",
   "metadata": {},
   "outputs": [
    {
     "data": {
      "image/png": "[encoded data removed]",
      "text/plain": [
       "<Figure size 1080x864 with 12 Axes>"
      ]
     },
     "metadata": {
      "needs_background": "light"
     },
     "output_type": "display_data"
    }
   ],
   "source": [
    "def make_plot(list1=list_im):\n",
    "    \"\"\" function to plot segmented images\"\"\"\n",
    "    fig, ax = plt.subplots(2, 6, figsize=(15,12))\n",
    "    row = 0\n",
    "    col = 0\n",
    "    for i in range(12):\n",
    "        ax[row, col].imshow(list_im[i])\n",
    "        #ax[row, col].set_title(f\"plot ({row}, {col})\")\n",
    "        col +=1\n",
    "        if col > 5:\n",
    "            row +=1\n",
    "            col = 0\n",
    "make_plot()"
   ]
  }
 ],
 "metadata": {
  "kernelspec": {
   "display_name": "Python 3 (ipykernel)",
   "language": "python",
   "name": "python3"
  },
  "language_info": {
   "codemirror_mode": {
    "name": "ipython",
    "version": 3
   },
   "file_extension": ".py",
   "mimetype": "text/x-python",
   "name": "python",
   "nbconvert_exporter": "python",
   "pygments_lexer": "ipython3",
   "version": "3.8.8"
  }
 },
 "nbformat": 4,
 "nbformat_minor": 5
}
